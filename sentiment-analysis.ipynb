{
 "cells": [
  {
   "cell_type": "markdown",
   "id": "7ac9d9bd",
   "metadata": {
    "papermill": {
     "duration": 0.009037,
     "end_time": "2024-09-05T17:22:30.541901",
     "exception": false,
     "start_time": "2024-09-05T17:22:30.532864",
     "status": "completed"
    },
    "tags": []
   },
   "source": [
    "# Advanced Sentiment Analysis using Attention-Augmented BiLSTM Architecture"
   ]
  },
  {
   "cell_type": "markdown",
   "id": "b561b73f",
   "metadata": {
    "papermill": {
     "duration": 0.008156,
     "end_time": "2024-09-05T17:22:30.558490",
     "exception": false,
     "start_time": "2024-09-05T17:22:30.550334",
     "status": "completed"
    },
    "tags": []
   },
   "source": [
    "## Contributors -\n",
    "### 1. Rohan Inamdar \n",
    "### 2. Kavin Sundarr"
   ]
  },
  {
   "cell_type": "markdown",
   "id": "6b017168",
   "metadata": {
    "papermill": {
     "duration": 0.008594,
     "end_time": "2024-09-05T17:22:30.575360",
     "exception": false,
     "start_time": "2024-09-05T17:22:30.566766",
     "status": "completed"
    },
    "tags": []
   },
   "source": [
    "## DATASET - https://www.kaggle.com/datasets/jp797498e/twitter-entity-sentiment-analysis"
   ]
  },
  {
   "cell_type": "markdown",
   "id": "f0cfd605",
   "metadata": {
    "papermill": {
     "duration": 0.008375,
     "end_time": "2024-09-05T17:22:30.592345",
     "exception": false,
     "start_time": "2024-09-05T17:22:30.583970",
     "status": "completed"
    },
    "tags": []
   },
   "source": [
    "***Importing Dependency***"
   ]
  },
  {
   "cell_type": "code",
   "execution_count": 1,
   "id": "dded74c3",
   "metadata": {
    "execution": {
     "iopub.execute_input": "2024-09-05T17:22:30.610684Z",
     "iopub.status.busy": "2024-09-05T17:22:30.610351Z",
     "iopub.status.idle": "2024-09-05T17:22:44.962384Z",
     "shell.execute_reply": "2024-09-05T17:22:44.961488Z"
    },
    "papermill": {
     "duration": 14.363623,
     "end_time": "2024-09-05T17:22:44.964570",
     "exception": false,
     "start_time": "2024-09-05T17:22:30.600947",
     "status": "completed"
    },
    "tags": []
   },
   "outputs": [
    {
     "name": "stdout",
     "output_type": "stream",
     "text": [
      "[nltk_data] Downloading package stopwords to /usr/share/nltk_data...\n",
      "[nltk_data]   Package stopwords is already up-to-date!\n"
     ]
    }
   ],
   "source": [
    "import pandas as pd\n",
    "import numpy as np\n",
    "import matplotlib.pyplot as plt\n",
    "import seaborn as sns\n",
    "import re\n",
    "import nltk\n",
    "from nltk.corpus import stopwords\n",
    "from tensorflow.keras.preprocessing.text import one_hot\n",
    "from tensorflow.keras.preprocessing.sequence import pad_sequences\n",
    "from tensorflow.keras.preprocessing.text import Tokenizer\n",
    "from sklearn.feature_extraction.text import CountVectorizer\n",
    "from sklearn.preprocessing import LabelEncoder\n",
    "from tensorflow.keras.utils import to_categorical\n",
    "import matplotlib.pyplot as plt\n",
    "import  keras\n",
    "from sklearn.model_selection import train_test_split\n",
    "\n",
    "\n",
    "nltk.download('stopwords')\n",
    "\n",
    "from nltk.stem import PorterStemmer\n",
    "from sklearn.metrics import confusion_matrix , classification_report ,accuracy_score,ConfusionMatrixDisplay"
   ]
  },
  {
   "cell_type": "markdown",
   "id": "53471397",
   "metadata": {
    "papermill": {
     "duration": 0.008282,
     "end_time": "2024-09-05T17:22:44.981525",
     "exception": false,
     "start_time": "2024-09-05T17:22:44.973243",
     "status": "completed"
    },
    "tags": []
   },
   "source": [
    "# Data Visualization"
   ]
  },
  {
   "cell_type": "code",
   "execution_count": 2,
   "id": "d06a9de6",
   "metadata": {
    "execution": {
     "iopub.execute_input": "2024-09-05T17:22:45.000171Z",
     "iopub.status.busy": "2024-09-05T17:22:44.999364Z",
     "iopub.status.idle": "2024-09-05T17:22:45.320275Z",
     "shell.execute_reply": "2024-09-05T17:22:45.319457Z"
    },
    "papermill": {
     "duration": 0.33294,
     "end_time": "2024-09-05T17:22:45.322970",
     "exception": false,
     "start_time": "2024-09-05T17:22:44.990030",
     "status": "completed"
    },
    "tags": []
   },
   "outputs": [],
   "source": [
    "df_valid = pd.read_csv('/kaggle/input/twitter-entity-sentiment-analysis/twitter_validation.csv', names=['userID', 'boarderland', 'sentiments', 'text'])\n",
    "df = pd.read_csv('/kaggle/input/twitter-entity-sentiment-analysis/twitter_training.csv',names=['userID', 'boarderland', 'sentiments', 'text'])"
   ]
  },
  {
   "cell_type": "code",
   "execution_count": 3,
   "id": "386672f0",
   "metadata": {
    "execution": {
     "iopub.execute_input": "2024-09-05T17:22:45.342366Z",
     "iopub.status.busy": "2024-09-05T17:22:45.342043Z",
     "iopub.status.idle": "2024-09-05T17:22:45.393939Z",
     "shell.execute_reply": "2024-09-05T17:22:45.392935Z"
    },
    "papermill": {
     "duration": 0.063856,
     "end_time": "2024-09-05T17:22:45.396006",
     "exception": false,
     "start_time": "2024-09-05T17:22:45.332150",
     "status": "completed"
    },
    "tags": []
   },
   "outputs": [
    {
     "name": "stdout",
     "output_type": "stream",
     "text": [
      "<class 'pandas.core.frame.DataFrame'>\n",
      "RangeIndex: 74682 entries, 0 to 74681\n",
      "Data columns (total 4 columns):\n",
      " #   Column       Non-Null Count  Dtype \n",
      "---  ------       --------------  ----- \n",
      " 0   userID       74682 non-null  int64 \n",
      " 1   boarderland  74682 non-null  object\n",
      " 2   sentiments   74682 non-null  object\n",
      " 3   text         73996 non-null  object\n",
      "dtypes: int64(1), object(3)\n",
      "memory usage: 2.3+ MB\n",
      "----------------------------------------------------------------------------------------------------\n",
      "<class 'pandas.core.frame.DataFrame'>\n",
      "RangeIndex: 1000 entries, 0 to 999\n",
      "Data columns (total 4 columns):\n",
      " #   Column       Non-Null Count  Dtype \n",
      "---  ------       --------------  ----- \n",
      " 0   userID       1000 non-null   int64 \n",
      " 1   boarderland  1000 non-null   object\n",
      " 2   sentiments   1000 non-null   object\n",
      " 3   text         1000 non-null   object\n",
      "dtypes: int64(1), object(3)\n",
      "memory usage: 31.4+ KB\n",
      "None\n"
     ]
    }
   ],
   "source": [
    "df.info()\n",
    "print('-'*100)\n",
    "print(df_valid.info())"
   ]
  },
  {
   "cell_type": "code",
   "execution_count": 4,
   "id": "dbd2a840",
   "metadata": {
    "execution": {
     "iopub.execute_input": "2024-09-05T17:22:45.419304Z",
     "iopub.status.busy": "2024-09-05T17:22:45.418855Z",
     "iopub.status.idle": "2024-09-05T17:22:45.424914Z",
     "shell.execute_reply": "2024-09-05T17:22:45.424095Z"
    },
    "papermill": {
     "duration": 0.022866,
     "end_time": "2024-09-05T17:22:45.427951",
     "exception": false,
     "start_time": "2024-09-05T17:22:45.405085",
     "status": "completed"
    },
    "tags": []
   },
   "outputs": [
    {
     "name": "stdout",
     "output_type": "stream",
     "text": [
      "The shape of the training dataset is : (74682, 4)\n",
      "--------\n",
      "The shape of the validation dataset is : (1000, 4)\n"
     ]
    }
   ],
   "source": [
    "print(f'The shape of the training dataset is : {df.shape}')\n",
    "print('--------')\n",
    "print(f'The shape of the validation dataset is : {df_valid.shape}')"
   ]
  },
  {
   "cell_type": "markdown",
   "id": "aa8e1cad",
   "metadata": {
    "papermill": {
     "duration": 0.013249,
     "end_time": "2024-09-05T17:22:45.455449",
     "exception": false,
     "start_time": "2024-09-05T17:22:45.442200",
     "status": "completed"
    },
    "tags": []
   },
   "source": [
    "# Data Cleaning and Processing"
   ]
  },
  {
   "cell_type": "code",
   "execution_count": 5,
   "id": "2dab19c3",
   "metadata": {
    "execution": {
     "iopub.execute_input": "2024-09-05T17:22:45.483407Z",
     "iopub.status.busy": "2024-09-05T17:22:45.482937Z",
     "iopub.status.idle": "2024-09-05T17:22:45.518629Z",
     "shell.execute_reply": "2024-09-05T17:22:45.517762Z"
    },
    "papermill": {
     "duration": 0.05212,
     "end_time": "2024-09-05T17:22:45.520604",
     "exception": false,
     "start_time": "2024-09-05T17:22:45.468484",
     "status": "completed"
    },
    "tags": []
   },
   "outputs": [
    {
     "data": {
      "text/plain": [
       "userID           0\n",
       "boarderland      0\n",
       "sentiments       0\n",
       "text           686\n",
       "dtype: int64"
      ]
     },
     "execution_count": 5,
     "metadata": {},
     "output_type": "execute_result"
    }
   ],
   "source": [
    "df.isnull().sum()"
   ]
  },
  {
   "cell_type": "code",
   "execution_count": 6,
   "id": "4ea9284f",
   "metadata": {
    "execution": {
     "iopub.execute_input": "2024-09-05T17:22:45.540314Z",
     "iopub.status.busy": "2024-09-05T17:22:45.540028Z",
     "iopub.status.idle": "2024-09-05T17:22:45.572093Z",
     "shell.execute_reply": "2024-09-05T17:22:45.571410Z"
    },
    "papermill": {
     "duration": 0.044172,
     "end_time": "2024-09-05T17:22:45.573957",
     "exception": false,
     "start_time": "2024-09-05T17:22:45.529785",
     "status": "completed"
    },
    "tags": []
   },
   "outputs": [],
   "source": [
    "df = df.dropna()"
   ]
  },
  {
   "cell_type": "code",
   "execution_count": 7,
   "id": "51cdc101",
   "metadata": {
    "execution": {
     "iopub.execute_input": "2024-09-05T17:22:45.592826Z",
     "iopub.status.busy": "2024-09-05T17:22:45.592515Z",
     "iopub.status.idle": "2024-09-05T17:22:45.610855Z",
     "shell.execute_reply": "2024-09-05T17:22:45.609889Z"
    },
    "papermill": {
     "duration": 0.030029,
     "end_time": "2024-09-05T17:22:45.612730",
     "exception": false,
     "start_time": "2024-09-05T17:22:45.582701",
     "status": "completed"
    },
    "tags": []
   },
   "outputs": [
    {
     "name": "stdout",
     "output_type": "stream",
     "text": [
      "Ducpicated sum of training Dataset: 4505\n",
      "Ducpicated sum of validation Dataset: 1\n"
     ]
    }
   ],
   "source": [
    "print(f\"Ducpicated sum of training Dataset: {df['text'].duplicated().sum()}\")\n",
    "print(f\"Ducpicated sum of validation Dataset: {df_valid['text'].duplicated().sum()}\")"
   ]
  },
  {
   "cell_type": "code",
   "execution_count": 8,
   "id": "e3af724a",
   "metadata": {
    "execution": {
     "iopub.execute_input": "2024-09-05T17:22:45.631731Z",
     "iopub.status.busy": "2024-09-05T17:22:45.631458Z",
     "iopub.status.idle": "2024-09-05T17:22:45.927127Z",
     "shell.execute_reply": "2024-09-05T17:22:45.926254Z"
    },
    "papermill": {
     "duration": 0.307813,
     "end_time": "2024-09-05T17:22:45.929554",
     "exception": false,
     "start_time": "2024-09-05T17:22:45.621741",
     "status": "completed"
    },
    "tags": []
   },
   "outputs": [
    {
     "data": {
      "image/png": "[encoded data removed]",
      "text/plain": [
       "<Figure size 1200x800 with 1 Axes>"
      ]
     },
     "metadata": {},
     "output_type": "display_data"
    }
   ],
   "source": [
    "count=df['sentiments'].value_counts()\n",
    "count\n",
    "plt.figure(figsize=(12,8))\n",
    "sns.barplot(x=count.index,y=count.values,palette='viridis')\n",
    "plt.title('Sentiments')\n",
    "plt.xlabel('target')\n",
    "plt.ylabel('count')\n",
    "plt.show()"
   ]
  },
  {
   "cell_type": "code",
   "execution_count": 9,
   "id": "839eb88b",
   "metadata": {
    "execution": {
     "iopub.execute_input": "2024-09-05T17:22:45.955588Z",
     "iopub.status.busy": "2024-09-05T17:22:45.954766Z",
     "iopub.status.idle": "2024-09-05T17:22:46.402154Z",
     "shell.execute_reply": "2024-09-05T17:22:46.401111Z"
    },
    "papermill": {
     "duration": 0.463283,
     "end_time": "2024-09-05T17:22:46.404243",
     "exception": false,
     "start_time": "2024-09-05T17:22:45.940960",
     "status": "completed"
    },
    "tags": []
   },
   "outputs": [
    {
     "data": {
      "image/png": "[encoded data removed]",
      "text/plain": [
       "<Figure size 1000x300 with 1 Axes>"
      ]
     },
     "metadata": {},
     "output_type": "display_data"
    }
   ],
   "source": [
    "plt.figure(figsize=(10,3))\n",
    "df['boarderland'].value_counts().plot(kind='bar', grid=True)\n",
    "plt.show()"
   ]
  },
  {
   "cell_type": "code",
   "execution_count": 10,
   "id": "c1f09ad4",
   "metadata": {
    "execution": {
     "iopub.execute_input": "2024-09-05T17:22:46.426058Z",
     "iopub.status.busy": "2024-09-05T17:22:46.425748Z",
     "iopub.status.idle": "2024-09-05T17:22:46.446607Z",
     "shell.execute_reply": "2024-09-05T17:22:46.445711Z"
    },
    "papermill": {
     "duration": 0.03362,
     "end_time": "2024-09-05T17:22:46.448471",
     "exception": false,
     "start_time": "2024-09-05T17:22:46.414851",
     "status": "completed"
    },
    "tags": []
   },
   "outputs": [
    {
     "name": "stdout",
     "output_type": "stream",
     "text": [
      "The shape of the training dataset is : (69491, 4)\n",
      "The shape of the valid dataset is : (999, 4)\n"
     ]
    }
   ],
   "source": [
    "df = df.drop_duplicates(subset=['text'], keep='first')\n",
    "df_valid = df_valid.drop_duplicates(subset=['text'], keep='first')\n",
    "print(f'The shape of the training dataset is : {df.shape}')\n",
    "print(f'The shape of the valid dataset is : {df_valid.shape}')"
   ]
  },
  {
   "cell_type": "markdown",
   "id": "84f1dbd3",
   "metadata": {
    "papermill": {
     "duration": 0.009883,
     "end_time": "2024-09-05T17:22:46.468800",
     "exception": false,
     "start_time": "2024-09-05T17:22:46.458917",
     "status": "completed"
    },
    "tags": []
   },
   "source": [
    "# Preprocessing"
   ]
  },
  {
   "cell_type": "code",
   "execution_count": 11,
   "id": "efdfb8aa",
   "metadata": {
    "execution": {
     "iopub.execute_input": "2024-09-05T17:22:46.490292Z",
     "iopub.status.busy": "2024-09-05T17:22:46.489993Z",
     "iopub.status.idle": "2024-09-05T17:23:13.621442Z",
     "shell.execute_reply": "2024-09-05T17:23:13.620613Z"
    },
    "papermill": {
     "duration": 27.144906,
     "end_time": "2024-09-05T17:23:13.623819",
     "exception": false,
     "start_time": "2024-09-05T17:22:46.478913",
     "status": "completed"
    },
    "tags": []
   },
   "outputs": [],
   "source": [
    "#clean text by removing everything except alphabets\n",
    "\n",
    "stmr = PorterStemmer()\n",
    "\n",
    "def preprocess_text(txt):\n",
    "  lst = []\n",
    "  stop_words = set(stopwords.words('english'))\n",
    "\n",
    "  for i in txt:\n",
    "    cln = re.sub('[^a-zA-Z]',' ',i)\n",
    "    cln = cln.lower()\n",
    "    cln = cln.split()\n",
    "    cln = [f for f in cln if f not in stop_words]\n",
    "    cln = [stmr.stem(l) for l in cln]\n",
    "    cln = ' '.join(cln)\n",
    "    lst.append(cln)\n",
    "  return lst\n",
    "\n",
    "\n",
    "\n",
    "text = preprocess_text(df['text'])\n",
    "valid_text = preprocess_text(df_valid['text'])"
   ]
  },
  {
   "cell_type": "code",
   "execution_count": 12,
   "id": "50666b0d",
   "metadata": {
    "execution": {
     "iopub.execute_input": "2024-09-05T17:23:13.646402Z",
     "iopub.status.busy": "2024-09-05T17:23:13.646091Z",
     "iopub.status.idle": "2024-09-05T17:23:13.657113Z",
     "shell.execute_reply": "2024-09-05T17:23:13.656439Z"
    },
    "papermill": {
     "duration": 0.024093,
     "end_time": "2024-09-05T17:23:13.659000",
     "exception": false,
     "start_time": "2024-09-05T17:23:13.634907",
     "status": "completed"
    },
    "tags": []
   },
   "outputs": [],
   "source": [
    "df1 = pd.DataFrame({'text': text, 'sentiments': df['sentiments']})\n",
    "df1_valid = pd.DataFrame({'text': valid_text, 'sentiments': df_valid['sentiments']})"
   ]
  },
  {
   "cell_type": "code",
   "execution_count": 13,
   "id": "5f330516",
   "metadata": {
    "execution": {
     "iopub.execute_input": "2024-09-05T17:23:13.680631Z",
     "iopub.status.busy": "2024-09-05T17:23:13.680321Z",
     "iopub.status.idle": "2024-09-05T17:23:16.286547Z",
     "shell.execute_reply": "2024-09-05T17:23:16.285761Z"
    },
    "papermill": {
     "duration": 2.61963,
     "end_time": "2024-09-05T17:23:16.288855",
     "exception": false,
     "start_time": "2024-09-05T17:23:13.669225",
     "status": "completed"
    },
    "tags": []
   },
   "outputs": [],
   "source": [
    "from tensorflow.keras.preprocessing.text import Tokenizer\n",
    "\n",
    "tkr=Tokenizer(num_words=10000) #To cap the maximum vocab size as  10,000\n",
    "\n",
    "#To fit Tokenizer on Text\n",
    "tkr.fit_on_texts(df1['text'])\n",
    "tkr.fit_on_texts(df1_valid['text'])\n",
    "\n",
    "#To convert text into sequences(VECTORS)\n",
    "X = tkr.texts_to_sequences(df1['text'])\n",
    "X_valid = tkr.texts_to_sequences(df1_valid['text'])"
   ]
  },
  {
   "cell_type": "code",
   "execution_count": 14,
   "id": "a772dd6e",
   "metadata": {
    "execution": {
     "iopub.execute_input": "2024-09-05T17:23:16.311407Z",
     "iopub.status.busy": "2024-09-05T17:23:16.311115Z",
     "iopub.status.idle": "2024-09-05T17:23:16.317107Z",
     "shell.execute_reply": "2024-09-05T17:23:16.316075Z"
    },
    "papermill": {
     "duration": 0.019377,
     "end_time": "2024-09-05T17:23:16.319081",
     "exception": false,
     "start_time": "2024-09-05T17:23:16.299704",
     "status": "completed"
    },
    "tags": []
   },
   "outputs": [
    {
     "name": "stdout",
     "output_type": "stream",
     "text": [
      "Previous Data      :  im get borderland murder\n",
      "Preprocessed Data  : [213, 4, 74, 1204]\n"
     ]
    }
   ],
   "source": [
    "print(f\"Previous Data      :  {df1['text'][0]}\")\n",
    "print(f\"Preprocessed Data  : {X[0]}\")"
   ]
  },
  {
   "cell_type": "code",
   "execution_count": 15,
   "id": "00bdf54d",
   "metadata": {
    "execution": {
     "iopub.execute_input": "2024-09-05T17:23:16.340802Z",
     "iopub.status.busy": "2024-09-05T17:23:16.340503Z",
     "iopub.status.idle": "2024-09-05T17:23:16.655558Z",
     "shell.execute_reply": "2024-09-05T17:23:16.654610Z"
    },
    "papermill": {
     "duration": 0.328628,
     "end_time": "2024-09-05T17:23:16.657834",
     "exception": false,
     "start_time": "2024-09-05T17:23:16.329206",
     "status": "completed"
    },
    "tags": []
   },
   "outputs": [],
   "source": [
    "max_len=100 #Defining the maximum sequence length\n",
    "\n",
    "X = pad_sequences(X, maxlen=max_len, padding='post')\n",
    "X_val = pad_sequences(X_valid, maxlen=max_len, padding='post')\n",
    "y = df1['sentiments']\n",
    "y_valid = df1_valid['sentiments']\n",
    "\n",
    "lbl = LabelEncoder()\n",
    "\n",
    "y = lbl.fit_transform(y)\n",
    "y_val = lbl.transform(y_valid)\n",
    "\n",
    "y = to_categorical(y)\n",
    "y_val = to_categorical(y_val, num_classes=4)"
   ]
  },
  {
   "cell_type": "code",
   "execution_count": 16,
   "id": "0af1b11a",
   "metadata": {
    "execution": {
     "iopub.execute_input": "2024-09-05T17:23:16.679954Z",
     "iopub.status.busy": "2024-09-05T17:23:16.679641Z",
     "iopub.status.idle": "2024-09-05T17:23:16.704137Z",
     "shell.execute_reply": "2024-09-05T17:23:16.703385Z"
    },
    "papermill": {
     "duration": 0.037846,
     "end_time": "2024-09-05T17:23:16.706337",
     "exception": false,
     "start_time": "2024-09-05T17:23:16.668491",
     "status": "completed"
    },
    "tags": []
   },
   "outputs": [],
   "source": [
    "from sklearn.model_selection import train_test_split\n",
    "X, X_test, y, y_test = train_test_split(X,y,test_size=0.2, random_state=42)"
   ]
  },
  {
   "cell_type": "code",
   "execution_count": 17,
   "id": "112fedac",
   "metadata": {
    "execution": {
     "iopub.execute_input": "2024-09-05T17:23:16.729365Z",
     "iopub.status.busy": "2024-09-05T17:23:16.729059Z",
     "iopub.status.idle": "2024-09-05T17:23:16.734344Z",
     "shell.execute_reply": "2024-09-05T17:23:16.733475Z"
    },
    "papermill": {
     "duration": 0.019218,
     "end_time": "2024-09-05T17:23:16.736516",
     "exception": false,
     "start_time": "2024-09-05T17:23:16.717298",
     "status": "completed"
    },
    "tags": []
   },
   "outputs": [
    {
     "name": "stdout",
     "output_type": "stream",
     "text": [
      "(55592, 100)\n",
      "(55592, 4)\n",
      "(999, 100)\n",
      "(999, 4)\n",
      "(13899, 100)\n",
      "(13899, 4)\n"
     ]
    }
   ],
   "source": [
    "def shape():\n",
    "  for i in [X,y, X_val, y_val, X_test,y_test]:\n",
    "    print(f'{i.shape}')\n",
    "    \n",
    "shape()"
   ]
  },
  {
   "cell_type": "markdown",
   "id": "a2446b7b",
   "metadata": {
    "papermill": {
     "duration": 0.01021,
     "end_time": "2024-09-05T17:23:16.757444",
     "exception": false,
     "start_time": "2024-09-05T17:23:16.747234",
     "status": "completed"
    },
    "tags": []
   },
   "source": [
    "# Model"
   ]
  },
  {
   "cell_type": "code",
   "execution_count": 18,
   "id": "e1b029b6",
   "metadata": {
    "execution": {
     "iopub.execute_input": "2024-09-05T17:23:16.779187Z",
     "iopub.status.busy": "2024-09-05T17:23:16.778895Z",
     "iopub.status.idle": "2024-09-05T17:23:16.791211Z",
     "shell.execute_reply": "2024-09-05T17:23:16.790545Z"
    },
    "papermill": {
     "duration": 0.025301,
     "end_time": "2024-09-05T17:23:16.793053",
     "exception": false,
     "start_time": "2024-09-05T17:23:16.767752",
     "status": "completed"
    },
    "tags": []
   },
   "outputs": [],
   "source": [
    "import tensorflow as tf\n",
    "from tensorflow.keras.models import Model\n",
    "from tensorflow.keras.layers import Input, Embedding, Bidirectional, LSTM, MultiHeadAttention\n",
    "from tensorflow.keras.layers import LayerNormalization, GlobalAveragePooling1D, Dropout, BatchNormalization, Dense\n",
    "from tensorflow.keras.optimizers import Adam\n",
    "from tensorflow.keras.callbacks import ReduceLROnPlateau\n",
    "from tensorflow.keras.regularizers import l2"
   ]
  },
  {
   "cell_type": "code",
   "execution_count": 19,
   "id": "1682ecf1",
   "metadata": {
    "execution": {
     "iopub.execute_input": "2024-09-05T17:23:16.815055Z",
     "iopub.status.busy": "2024-09-05T17:23:16.814591Z",
     "iopub.status.idle": "2024-09-05T17:23:18.192237Z",
     "shell.execute_reply": "2024-09-05T17:23:18.191352Z"
    },
    "papermill": {
     "duration": 1.390893,
     "end_time": "2024-09-05T17:23:18.194225",
     "exception": false,
     "start_time": "2024-09-05T17:23:16.803332",
     "status": "completed"
    },
    "tags": []
   },
   "outputs": [
    {
     "name": "stderr",
     "output_type": "stream",
     "text": [
      "/opt/conda/lib/python3.10/site-packages/keras/src/layers/core/embedding.py:90: UserWarning: Argument `input_length` is deprecated. Just remove it.\n",
      "  warnings.warn(\n"
     ]
    },
    {
     "data": {
      "text/html": [
       "<pre style=\"white-space:pre;overflow-x:auto;line-height:normal;font-family:Menlo,'DejaVu Sans Mono',consolas,'Courier New',monospace\"><span style=\"font-weight: bold\">Model: \"functional_1\"</span>\n",
       "</pre>\n"
      ],
      "text/plain": [
       "\u001b[1mModel: \"functional_1\"\u001b[0m\n"
      ]
     },
     "metadata": {},
     "output_type": "display_data"
    },
    {
     "data": {
      "text/html": [
       "<pre style=\"white-space:pre;overflow-x:auto;line-height:normal;font-family:Menlo,'DejaVu Sans Mono',consolas,'Courier New',monospace\">┏━━━━━━━━━━━━━━━━━━━━━┳━━━━━━━━━━━━━━━━━━━┳━━━━━━━━━━━━┳━━━━━━━━━━━━━━━━━━━┓\n",
       "┃<span style=\"font-weight: bold\"> Layer (type)        </span>┃<span style=\"font-weight: bold\"> Output Shape      </span>┃<span style=\"font-weight: bold\">    Param # </span>┃<span style=\"font-weight: bold\"> Connected to      </span>┃\n",
       "┡━━━━━━━━━━━━━━━━━━━━━╇━━━━━━━━━━━━━━━━━━━╇━━━━━━━━━━━━╇━━━━━━━━━━━━━━━━━━━┩\n",
       "│ input_layer         │ (<span style=\"color: #00d7ff; text-decoration-color: #00d7ff\">None</span>, <span style=\"color: #00af00; text-decoration-color: #00af00\">100</span>)       │          <span style=\"color: #00af00; text-decoration-color: #00af00\">0</span> │ -                 │\n",
       "│ (<span style=\"color: #0087ff; text-decoration-color: #0087ff\">InputLayer</span>)        │                   │            │                   │\n",
       "├─────────────────────┼───────────────────┼────────────┼───────────────────┤\n",
       "│ embedding           │ (<span style=\"color: #00d7ff; text-decoration-color: #00d7ff\">None</span>, <span style=\"color: #00af00; text-decoration-color: #00af00\">100</span>, <span style=\"color: #00af00; text-decoration-color: #00af00\">128</span>)  │  <span style=\"color: #00af00; text-decoration-color: #00af00\">1,280,000</span> │ input_layer[<span style=\"color: #00af00; text-decoration-color: #00af00\">0</span>][<span style=\"color: #00af00; text-decoration-color: #00af00\">0</span>] │\n",
       "│ (<span style=\"color: #0087ff; text-decoration-color: #0087ff\">Embedding</span>)         │                   │            │                   │\n",
       "├─────────────────────┼───────────────────┼────────────┼───────────────────┤\n",
       "│ bidirectional       │ (<span style=\"color: #00d7ff; text-decoration-color: #00d7ff\">None</span>, <span style=\"color: #00af00; text-decoration-color: #00af00\">100</span>, <span style=\"color: #00af00; text-decoration-color: #00af00\">128</span>)  │     <span style=\"color: #00af00; text-decoration-color: #00af00\">98,816</span> │ embedding[<span style=\"color: #00af00; text-decoration-color: #00af00\">0</span>][<span style=\"color: #00af00; text-decoration-color: #00af00\">0</span>]   │\n",
       "│ (<span style=\"color: #0087ff; text-decoration-color: #0087ff\">Bidirectional</span>)     │                   │            │                   │\n",
       "├─────────────────────┼───────────────────┼────────────┼───────────────────┤\n",
       "│ multi_head_attenti… │ (<span style=\"color: #00d7ff; text-decoration-color: #00d7ff\">None</span>, <span style=\"color: #00af00; text-decoration-color: #00af00\">100</span>, <span style=\"color: #00af00; text-decoration-color: #00af00\">128</span>)  │    <span style=\"color: #00af00; text-decoration-color: #00af00\">263,808</span> │ bidirectional[<span style=\"color: #00af00; text-decoration-color: #00af00\">0</span>]… │\n",
       "│ (<span style=\"color: #0087ff; text-decoration-color: #0087ff\">MultiHeadAttentio…</span> │                   │            │ bidirectional[<span style=\"color: #00af00; text-decoration-color: #00af00\">0</span>]… │\n",
       "├─────────────────────┼───────────────────┼────────────┼───────────────────┤\n",
       "│ layer_normalization │ (<span style=\"color: #00d7ff; text-decoration-color: #00d7ff\">None</span>, <span style=\"color: #00af00; text-decoration-color: #00af00\">100</span>, <span style=\"color: #00af00; text-decoration-color: #00af00\">128</span>)  │        <span style=\"color: #00af00; text-decoration-color: #00af00\">256</span> │ multi_head_atten… │\n",
       "│ (<span style=\"color: #0087ff; text-decoration-color: #0087ff\">LayerNormalizatio…</span> │                   │            │                   │\n",
       "├─────────────────────┼───────────────────┼────────────┼───────────────────┤\n",
       "│ global_average_poo… │ (<span style=\"color: #00d7ff; text-decoration-color: #00d7ff\">None</span>, <span style=\"color: #00af00; text-decoration-color: #00af00\">128</span>)       │          <span style=\"color: #00af00; text-decoration-color: #00af00\">0</span> │ layer_normalizat… │\n",
       "│ (<span style=\"color: #0087ff; text-decoration-color: #0087ff\">GlobalAveragePool…</span> │                   │            │                   │\n",
       "├─────────────────────┼───────────────────┼────────────┼───────────────────┤\n",
       "│ dropout_1 (<span style=\"color: #0087ff; text-decoration-color: #0087ff\">Dropout</span>) │ (<span style=\"color: #00d7ff; text-decoration-color: #00d7ff\">None</span>, <span style=\"color: #00af00; text-decoration-color: #00af00\">128</span>)       │          <span style=\"color: #00af00; text-decoration-color: #00af00\">0</span> │ global_average_p… │\n",
       "├─────────────────────┼───────────────────┼────────────┼───────────────────┤\n",
       "│ batch_normalization │ (<span style=\"color: #00d7ff; text-decoration-color: #00d7ff\">None</span>, <span style=\"color: #00af00; text-decoration-color: #00af00\">128</span>)       │        <span style=\"color: #00af00; text-decoration-color: #00af00\">512</span> │ dropout_1[<span style=\"color: #00af00; text-decoration-color: #00af00\">0</span>][<span style=\"color: #00af00; text-decoration-color: #00af00\">0</span>]   │\n",
       "│ (<span style=\"color: #0087ff; text-decoration-color: #0087ff\">BatchNormalizatio…</span> │                   │            │                   │\n",
       "├─────────────────────┼───────────────────┼────────────┼───────────────────┤\n",
       "│ dense (<span style=\"color: #0087ff; text-decoration-color: #0087ff\">Dense</span>)       │ (<span style=\"color: #00d7ff; text-decoration-color: #00d7ff\">None</span>, <span style=\"color: #00af00; text-decoration-color: #00af00\">64</span>)        │      <span style=\"color: #00af00; text-decoration-color: #00af00\">8,256</span> │ batch_normalizat… │\n",
       "├─────────────────────┼───────────────────┼────────────┼───────────────────┤\n",
       "│ dropout_2 (<span style=\"color: #0087ff; text-decoration-color: #0087ff\">Dropout</span>) │ (<span style=\"color: #00d7ff; text-decoration-color: #00d7ff\">None</span>, <span style=\"color: #00af00; text-decoration-color: #00af00\">64</span>)        │          <span style=\"color: #00af00; text-decoration-color: #00af00\">0</span> │ dense[<span style=\"color: #00af00; text-decoration-color: #00af00\">0</span>][<span style=\"color: #00af00; text-decoration-color: #00af00\">0</span>]       │\n",
       "├─────────────────────┼───────────────────┼────────────┼───────────────────┤\n",
       "│ dense_1 (<span style=\"color: #0087ff; text-decoration-color: #0087ff\">Dense</span>)     │ (<span style=\"color: #00d7ff; text-decoration-color: #00d7ff\">None</span>, <span style=\"color: #00af00; text-decoration-color: #00af00\">4</span>)         │        <span style=\"color: #00af00; text-decoration-color: #00af00\">260</span> │ dropout_2[<span style=\"color: #00af00; text-decoration-color: #00af00\">0</span>][<span style=\"color: #00af00; text-decoration-color: #00af00\">0</span>]   │\n",
       "└─────────────────────┴───────────────────┴────────────┴───────────────────┘\n",
       "</pre>\n"
      ],
      "text/plain": [
       "┏━━━━━━━━━━━━━━━━━━━━━┳━━━━━━━━━━━━━━━━━━━┳━━━━━━━━━━━━┳━━━━━━━━━━━━━━━━━━━┓\n",
       "┃\u001b[1m \u001b[0m\u001b[1mLayer (type)       \u001b[0m\u001b[1m \u001b[0m┃\u001b[1m \u001b[0m\u001b[1mOutput Shape     \u001b[0m\u001b[1m \u001b[0m┃\u001b[1m \u001b[0m\u001b[1m   Param #\u001b[0m\u001b[1m \u001b[0m┃\u001b[1m \u001b[0m\u001b[1mConnected to     \u001b[0m\u001b[1m \u001b[0m┃\n",
       "┡━━━━━━━━━━━━━━━━━━━━━╇━━━━━━━━━━━━━━━━━━━╇━━━━━━━━━━━━╇━━━━━━━━━━━━━━━━━━━┩\n",
       "│ input_layer         │ (\u001b[38;5;45mNone\u001b[0m, \u001b[38;5;34m100\u001b[0m)       │          \u001b[38;5;34m0\u001b[0m │ -                 │\n",
       "│ (\u001b[38;5;33mInputLayer\u001b[0m)        │                   │            │                   │\n",
       "├─────────────────────┼───────────────────┼────────────┼───────────────────┤\n",
       "│ embedding           │ (\u001b[38;5;45mNone\u001b[0m, \u001b[38;5;34m100\u001b[0m, \u001b[38;5;34m128\u001b[0m)  │  \u001b[38;5;34m1,280,000\u001b[0m │ input_layer[\u001b[38;5;34m0\u001b[0m][\u001b[38;5;34m0\u001b[0m] │\n",
       "│ (\u001b[38;5;33mEmbedding\u001b[0m)         │                   │            │                   │\n",
       "├─────────────────────┼───────────────────┼────────────┼───────────────────┤\n",
       "│ bidirectional       │ (\u001b[38;5;45mNone\u001b[0m, \u001b[38;5;34m100\u001b[0m, \u001b[38;5;34m128\u001b[0m)  │     \u001b[38;5;34m98,816\u001b[0m │ embedding[\u001b[38;5;34m0\u001b[0m][\u001b[38;5;34m0\u001b[0m]   │\n",
       "│ (\u001b[38;5;33mBidirectional\u001b[0m)     │                   │            │                   │\n",
       "├─────────────────────┼───────────────────┼────────────┼───────────────────┤\n",
       "│ multi_head_attenti… │ (\u001b[38;5;45mNone\u001b[0m, \u001b[38;5;34m100\u001b[0m, \u001b[38;5;34m128\u001b[0m)  │    \u001b[38;5;34m263,808\u001b[0m │ bidirectional[\u001b[38;5;34m0\u001b[0m]… │\n",
       "│ (\u001b[38;5;33mMultiHeadAttentio…\u001b[0m │                   │            │ bidirectional[\u001b[38;5;34m0\u001b[0m]… │\n",
       "├─────────────────────┼───────────────────┼────────────┼───────────────────┤\n",
       "│ layer_normalization │ (\u001b[38;5;45mNone\u001b[0m, \u001b[38;5;34m100\u001b[0m, \u001b[38;5;34m128\u001b[0m)  │        \u001b[38;5;34m256\u001b[0m │ multi_head_atten… │\n",
       "│ (\u001b[38;5;33mLayerNormalizatio…\u001b[0m │                   │            │                   │\n",
       "├─────────────────────┼───────────────────┼────────────┼───────────────────┤\n",
       "│ global_average_poo… │ (\u001b[38;5;45mNone\u001b[0m, \u001b[38;5;34m128\u001b[0m)       │          \u001b[38;5;34m0\u001b[0m │ layer_normalizat… │\n",
       "│ (\u001b[38;5;33mGlobalAveragePool…\u001b[0m │                   │            │                   │\n",
       "├─────────────────────┼───────────────────┼────────────┼───────────────────┤\n",
       "│ dropout_1 (\u001b[38;5;33mDropout\u001b[0m) │ (\u001b[38;5;45mNone\u001b[0m, \u001b[38;5;34m128\u001b[0m)       │          \u001b[38;5;34m0\u001b[0m │ global_average_p… │\n",
       "├─────────────────────┼───────────────────┼────────────┼───────────────────┤\n",
       "│ batch_normalization │ (\u001b[38;5;45mNone\u001b[0m, \u001b[38;5;34m128\u001b[0m)       │        \u001b[38;5;34m512\u001b[0m │ dropout_1[\u001b[38;5;34m0\u001b[0m][\u001b[38;5;34m0\u001b[0m]   │\n",
       "│ (\u001b[38;5;33mBatchNormalizatio…\u001b[0m │                   │            │                   │\n",
       "├─────────────────────┼───────────────────┼────────────┼───────────────────┤\n",
       "│ dense (\u001b[38;5;33mDense\u001b[0m)       │ (\u001b[38;5;45mNone\u001b[0m, \u001b[38;5;34m64\u001b[0m)        │      \u001b[38;5;34m8,256\u001b[0m │ batch_normalizat… │\n",
       "├─────────────────────┼───────────────────┼────────────┼───────────────────┤\n",
       "│ dropout_2 (\u001b[38;5;33mDropout\u001b[0m) │ (\u001b[38;5;45mNone\u001b[0m, \u001b[38;5;34m64\u001b[0m)        │          \u001b[38;5;34m0\u001b[0m │ dense[\u001b[38;5;34m0\u001b[0m][\u001b[38;5;34m0\u001b[0m]       │\n",
       "├─────────────────────┼───────────────────┼────────────┼───────────────────┤\n",
       "│ dense_1 (\u001b[38;5;33mDense\u001b[0m)     │ (\u001b[38;5;45mNone\u001b[0m, \u001b[38;5;34m4\u001b[0m)         │        \u001b[38;5;34m260\u001b[0m │ dropout_2[\u001b[38;5;34m0\u001b[0m][\u001b[38;5;34m0\u001b[0m]   │\n",
       "└─────────────────────┴───────────────────┴────────────┴───────────────────┘\n"
      ]
     },
     "metadata": {},
     "output_type": "display_data"
    },
    {
     "data": {
      "text/html": [
       "<pre style=\"white-space:pre;overflow-x:auto;line-height:normal;font-family:Menlo,'DejaVu Sans Mono',consolas,'Courier New',monospace\"><span style=\"font-weight: bold\"> Total params: </span><span style=\"color: #00af00; text-decoration-color: #00af00\">1,651,908</span> (6.30 MB)\n",
       "</pre>\n"
      ],
      "text/plain": [
       "\u001b[1m Total params: \u001b[0m\u001b[38;5;34m1,651,908\u001b[0m (6.30 MB)\n"
      ]
     },
     "metadata": {},
     "output_type": "display_data"
    },
    {
     "data": {
      "text/html": [
       "<pre style=\"white-space:pre;overflow-x:auto;line-height:normal;font-family:Menlo,'DejaVu Sans Mono',consolas,'Courier New',monospace\"><span style=\"font-weight: bold\"> Trainable params: </span><span style=\"color: #00af00; text-decoration-color: #00af00\">1,651,652</span> (6.30 MB)\n",
       "</pre>\n"
      ],
      "text/plain": [
       "\u001b[1m Trainable params: \u001b[0m\u001b[38;5;34m1,651,652\u001b[0m (6.30 MB)\n"
      ]
     },
     "metadata": {},
     "output_type": "display_data"
    },
    {
     "data": {
      "text/html": [
       "<pre style=\"white-space:pre;overflow-x:auto;line-height:normal;font-family:Menlo,'DejaVu Sans Mono',consolas,'Courier New',monospace\"><span style=\"font-weight: bold\"> Non-trainable params: </span><span style=\"color: #00af00; text-decoration-color: #00af00\">256</span> (1.00 KB)\n",
       "</pre>\n"
      ],
      "text/plain": [
       "\u001b[1m Non-trainable params: \u001b[0m\u001b[38;5;34m256\u001b[0m (1.00 KB)\n"
      ]
     },
     "metadata": {},
     "output_type": "display_data"
    }
   ],
   "source": [
    "# Model architecture with Functional API and MultiHeadAttention\n",
    "input_layer = Input(shape=(100,))\n",
    "embedding_layer = Embedding(input_dim=10000, output_dim=128, input_length=100)(input_layer)\n",
    "lstm_layer = Bidirectional(LSTM(64, dropout=0.2, return_sequences=True))(embedding_layer)\n",
    "\n",
    "# MultiHeadAttention requires multiple inputs: query, key, and value\n",
    "attention_output = MultiHeadAttention(num_heads=4, key_dim=128)(lstm_layer, lstm_layer)\n",
    "attention_output = LayerNormalization(epsilon=1e-6)(attention_output)  # Normalize after attention\n",
    "\n",
    "pooled_output = GlobalAveragePooling1D()(attention_output)\n",
    "dropout_layer = Dropout(0.5)(pooled_output)\n",
    "batch_norm_layer = BatchNormalization()(dropout_layer)\n",
    "dense_layer = Dense(64, activation='relu')(batch_norm_layer)\n",
    "dropout_layer_2 = Dropout(0.5)(dense_layer)\n",
    "output_layer = Dense(4, activation='softmax')(dropout_layer_2)  # Assuming 4 sentiment classes\n",
    "\n",
    "# Build the model\n",
    "model = Model(inputs=input_layer, outputs=output_layer)\n",
    "\n",
    "# Model summary\n",
    "model.summary()\n"
   ]
  },
  {
   "cell_type": "markdown",
   "id": "c067bea9",
   "metadata": {
    "papermill": {
     "duration": 0.011587,
     "end_time": "2024-09-05T17:23:18.217627",
     "exception": false,
     "start_time": "2024-09-05T17:23:18.206040",
     "status": "completed"
    },
    "tags": []
   },
   "source": [
    "# Training"
   ]
  },
  {
   "cell_type": "code",
   "execution_count": 20,
   "id": "86b1b032",
   "metadata": {
    "execution": {
     "iopub.execute_input": "2024-09-05T17:23:18.243119Z",
     "iopub.status.busy": "2024-09-05T17:23:18.242802Z",
     "iopub.status.idle": "2024-09-05T17:53:04.809603Z",
     "shell.execute_reply": "2024-09-05T17:53:04.808653Z"
    },
    "papermill": {
     "duration": 1787.010487,
     "end_time": "2024-09-05T17:53:05.240618",
     "exception": false,
     "start_time": "2024-09-05T17:23:18.230131",
     "status": "completed"
    },
    "tags": []
   },
   "outputs": [
    {
     "name": "stdout",
     "output_type": "stream",
     "text": [
      "Epoch 1/50\n",
      "\u001b[1m435/435\u001b[0m \u001b[32m━━━━━━━━━━━━━━━━━━━━\u001b[0m\u001b[37m\u001b[0m \u001b[1m0s\u001b[0m 209ms/step - accuracy: 0.2651 - loss: 1.7599\n",
      "Epoch 1: val_accuracy improved from -inf to 0.60630, saving model to /kaggle/working/output/best_model_accuracy.keras\n",
      "\u001b[1m435/435\u001b[0m \u001b[32m━━━━━━━━━━━━━━━━━━━━\u001b[0m\u001b[37m\u001b[0m \u001b[1m105s\u001b[0m 223ms/step - accuracy: 0.2653 - loss: 1.7594 - val_accuracy: 0.6063 - val_loss: 0.9791 - learning_rate: 5.0000e-04\n",
      "Epoch 2/50\n",
      "\u001b[1m435/435\u001b[0m \u001b[32m━━━━━━━━━━━━━━━━━━━━\u001b[0m\u001b[37m\u001b[0m \u001b[1m0s\u001b[0m 209ms/step - accuracy: 0.6652 - loss: 0.8880\n",
      "Epoch 2: val_accuracy improved from 0.60630 to 0.76559, saving model to /kaggle/working/output/best_model_accuracy.keras\n",
      "\u001b[1m435/435\u001b[0m \u001b[32m━━━━━━━━━━━━━━━━━━━━\u001b[0m\u001b[37m\u001b[0m \u001b[1m96s\u001b[0m 221ms/step - accuracy: 0.6653 - loss: 0.8878 - val_accuracy: 0.7656 - val_loss: 0.6279 - learning_rate: 5.0000e-04\n",
      "Epoch 3/50\n",
      "\u001b[1m435/435\u001b[0m \u001b[32m━━━━━━━━━━━━━━━━━━━━\u001b[0m\u001b[37m\u001b[0m \u001b[1m0s\u001b[0m 210ms/step - accuracy: 0.8000 - loss: 0.5790\n",
      "Epoch 3: val_accuracy improved from 0.76559 to 0.80819, saving model to /kaggle/working/output/best_model_accuracy.keras\n",
      "\u001b[1m435/435\u001b[0m \u001b[32m━━━━━━━━━━━━━━━━━━━━\u001b[0m\u001b[37m\u001b[0m \u001b[1m97s\u001b[0m 223ms/step - accuracy: 0.8000 - loss: 0.5790 - val_accuracy: 0.8082 - val_loss: 0.5223 - learning_rate: 5.0000e-04\n",
      "Epoch 4/50\n",
      "\u001b[1m435/435\u001b[0m \u001b[32m━━━━━━━━━━━━━━━━━━━━\u001b[0m\u001b[37m\u001b[0m \u001b[1m0s\u001b[0m 209ms/step - accuracy: 0.8445 - loss: 0.4453\n",
      "Epoch 4: val_accuracy improved from 0.80819 to 0.81948, saving model to /kaggle/working/output/best_model_accuracy.keras\n",
      "\u001b[1m435/435\u001b[0m \u001b[32m━━━━━━━━━━━━━━━━━━━━\u001b[0m\u001b[37m\u001b[0m \u001b[1m96s\u001b[0m 222ms/step - accuracy: 0.8445 - loss: 0.4453 - val_accuracy: 0.8195 - val_loss: 0.4993 - learning_rate: 5.0000e-04\n",
      "Epoch 5/50\n",
      "\u001b[1m435/435\u001b[0m \u001b[32m━━━━━━━━━━━━━━━━━━━━\u001b[0m\u001b[37m\u001b[0m \u001b[1m0s\u001b[0m 209ms/step - accuracy: 0.8703 - loss: 0.3614\n",
      "Epoch 5: val_accuracy improved from 0.81948 to 0.83020, saving model to /kaggle/working/output/best_model_accuracy.keras\n",
      "\u001b[1m435/435\u001b[0m \u001b[32m━━━━━━━━━━━━━━━━━━━━\u001b[0m\u001b[37m\u001b[0m \u001b[1m142s\u001b[0m 221ms/step - accuracy: 0.8703 - loss: 0.3614 - val_accuracy: 0.8302 - val_loss: 0.4701 - learning_rate: 5.0000e-04\n",
      "Epoch 6/50\n",
      "\u001b[1m435/435\u001b[0m \u001b[32m━━━━━━━━━━━━━━━━━━━━\u001b[0m\u001b[37m\u001b[0m \u001b[1m0s\u001b[0m 210ms/step - accuracy: 0.8897 - loss: 0.3081\n",
      "Epoch 6: val_accuracy improved from 0.83020 to 0.83970, saving model to /kaggle/working/output/best_model_accuracy.keras\n",
      "\u001b[1m435/435\u001b[0m \u001b[32m━━━━━━━━━━━━━━━━━━━━\u001b[0m\u001b[37m\u001b[0m \u001b[1m142s\u001b[0m 222ms/step - accuracy: 0.8897 - loss: 0.3081 - val_accuracy: 0.8397 - val_loss: 0.5228 - learning_rate: 5.0000e-04\n",
      "Epoch 7/50\n",
      "\u001b[1m435/435\u001b[0m \u001b[32m━━━━━━━━━━━━━━━━━━━━\u001b[0m\u001b[37m\u001b[0m \u001b[1m0s\u001b[0m 209ms/step - accuracy: 0.8978 - loss: 0.2861\n",
      "Epoch 7: val_accuracy improved from 0.83970 to 0.85301, saving model to /kaggle/working/output/best_model_accuracy.keras\n",
      "\u001b[1m435/435\u001b[0m \u001b[32m━━━━━━━━━━━━━━━━━━━━\u001b[0m\u001b[37m\u001b[0m \u001b[1m96s\u001b[0m 221ms/step - accuracy: 0.8978 - loss: 0.2861 - val_accuracy: 0.8530 - val_loss: 0.4456 - learning_rate: 5.0000e-04\n",
      "Epoch 8/50\n",
      "\u001b[1m435/435\u001b[0m \u001b[32m━━━━━━━━━━━━━━━━━━━━\u001b[0m\u001b[37m\u001b[0m \u001b[1m0s\u001b[0m 209ms/step - accuracy: 0.9061 - loss: 0.2541\n",
      "Epoch 8: val_accuracy improved from 0.85301 to 0.85661, saving model to /kaggle/working/output/best_model_accuracy.keras\n",
      "\u001b[1m435/435\u001b[0m \u001b[32m━━━━━━━━━━━━━━━━━━━━\u001b[0m\u001b[37m\u001b[0m \u001b[1m96s\u001b[0m 222ms/step - accuracy: 0.9061 - loss: 0.2542 - val_accuracy: 0.8566 - val_loss: 0.4512 - learning_rate: 5.0000e-04\n",
      "Epoch 9/50\n",
      "\u001b[1m435/435\u001b[0m \u001b[32m━━━━━━━━━━━━━━━━━━━━\u001b[0m\u001b[37m\u001b[0m \u001b[1m0s\u001b[0m 209ms/step - accuracy: 0.9167 - loss: 0.2290\n",
      "Epoch 9: val_accuracy improved from 0.85661 to 0.85834, saving model to /kaggle/working/output/best_model_accuracy.keras\n",
      "\u001b[1m435/435\u001b[0m \u001b[32m━━━━━━━━━━━━━━━━━━━━\u001b[0m\u001b[37m\u001b[0m \u001b[1m97s\u001b[0m 223ms/step - accuracy: 0.9167 - loss: 0.2290 - val_accuracy: 0.8583 - val_loss: 0.4918 - learning_rate: 5.0000e-04\n",
      "Epoch 10/50\n",
      "\u001b[1m435/435\u001b[0m \u001b[32m━━━━━━━━━━━━━━━━━━━━\u001b[0m\u001b[37m\u001b[0m \u001b[1m0s\u001b[0m 208ms/step - accuracy: 0.9213 - loss: 0.2194\n",
      "Epoch 10: val_accuracy improved from 0.85834 to 0.86625, saving model to /kaggle/working/output/best_model_accuracy.keras\n",
      "\u001b[1m435/435\u001b[0m \u001b[32m━━━━━━━━━━━━━━━━━━━━\u001b[0m\u001b[37m\u001b[0m \u001b[1m96s\u001b[0m 222ms/step - accuracy: 0.9213 - loss: 0.2194 - val_accuracy: 0.8662 - val_loss: 0.4652 - learning_rate: 5.0000e-04\n",
      "Epoch 11/50\n",
      "\u001b[1m435/435\u001b[0m \u001b[32m━━━━━━━━━━━━━━━━━━━━\u001b[0m\u001b[37m\u001b[0m \u001b[1m0s\u001b[0m 208ms/step - accuracy: 0.9260 - loss: 0.2074\n",
      "Epoch 11: ReduceLROnPlateau reducing learning rate to 0.0002500000118743628.\n",
      "\n",
      "Epoch 11: val_accuracy improved from 0.86625 to 0.86654, saving model to /kaggle/working/output/best_model_accuracy.keras\n",
      "\u001b[1m435/435\u001b[0m \u001b[32m━━━━━━━━━━━━━━━━━━━━\u001b[0m\u001b[37m\u001b[0m \u001b[1m96s\u001b[0m 222ms/step - accuracy: 0.9260 - loss: 0.2074 - val_accuracy: 0.8665 - val_loss: 0.4641 - learning_rate: 5.0000e-04\n",
      "Epoch 12/50\n",
      "\u001b[1m435/435\u001b[0m \u001b[32m━━━━━━━━━━━━━━━━━━━━\u001b[0m\u001b[37m\u001b[0m \u001b[1m0s\u001b[0m 208ms/step - accuracy: 0.9347 - loss: 0.1739\n",
      "Epoch 12: val_accuracy improved from 0.86654 to 0.87236, saving model to /kaggle/working/output/best_model_accuracy.keras\n",
      "\u001b[1m435/435\u001b[0m \u001b[32m━━━━━━━━━━━━━━━━━━━━\u001b[0m\u001b[37m\u001b[0m \u001b[1m96s\u001b[0m 222ms/step - accuracy: 0.9347 - loss: 0.1739 - val_accuracy: 0.8724 - val_loss: 0.4773 - learning_rate: 2.5000e-04\n",
      "Epoch 13/50\n",
      "\u001b[1m435/435\u001b[0m \u001b[32m━━━━━━━━━━━━━━━━━━━━\u001b[0m\u001b[37m\u001b[0m \u001b[1m0s\u001b[0m 210ms/step - accuracy: 0.9390 - loss: 0.1592\n",
      "Epoch 13: val_accuracy improved from 0.87236 to 0.87366, saving model to /kaggle/working/output/best_model_accuracy.keras\n",
      "\u001b[1m435/435\u001b[0m \u001b[32m━━━━━━━━━━━━━━━━━━━━\u001b[0m\u001b[37m\u001b[0m \u001b[1m96s\u001b[0m 222ms/step - accuracy: 0.9390 - loss: 0.1592 - val_accuracy: 0.8737 - val_loss: 0.4993 - learning_rate: 2.5000e-04\n",
      "Epoch 14/50\n",
      "\u001b[1m435/435\u001b[0m \u001b[32m━━━━━━━━━━━━━━━━━━━━\u001b[0m\u001b[37m\u001b[0m \u001b[1m0s\u001b[0m 210ms/step - accuracy: 0.9432 - loss: 0.1515\n",
      "Epoch 14: val_accuracy improved from 0.87366 to 0.87467, saving model to /kaggle/working/output/best_model_accuracy.keras\n",
      "\u001b[1m435/435\u001b[0m \u001b[32m━━━━━━━━━━━━━━━━━━━━\u001b[0m\u001b[37m\u001b[0m \u001b[1m97s\u001b[0m 222ms/step - accuracy: 0.9432 - loss: 0.1515 - val_accuracy: 0.8747 - val_loss: 0.5130 - learning_rate: 2.5000e-04\n",
      "Epoch 15/50\n",
      "\u001b[1m435/435\u001b[0m \u001b[32m━━━━━━━━━━━━━━━━━━━━\u001b[0m\u001b[37m\u001b[0m \u001b[1m0s\u001b[0m 210ms/step - accuracy: 0.9456 - loss: 0.1439\n",
      "Epoch 15: ReduceLROnPlateau reducing learning rate to 0.0001250000059371814.\n",
      "\n",
      "Epoch 15: val_accuracy did not improve from 0.87467\n",
      "\u001b[1m435/435\u001b[0m \u001b[32m━━━━━━━━━━━━━━━━━━━━\u001b[0m\u001b[37m\u001b[0m \u001b[1m142s\u001b[0m 222ms/step - accuracy: 0.9456 - loss: 0.1439 - val_accuracy: 0.8745 - val_loss: 0.5320 - learning_rate: 2.5000e-04\n",
      "Epoch 16/50\n",
      "\u001b[1m435/435\u001b[0m \u001b[32m━━━━━━━━━━━━━━━━━━━━\u001b[0m\u001b[37m\u001b[0m \u001b[1m0s\u001b[0m 209ms/step - accuracy: 0.9475 - loss: 0.1402\n",
      "Epoch 16: val_accuracy improved from 0.87467 to 0.87776, saving model to /kaggle/working/output/best_model_accuracy.keras\n",
      "\u001b[1m435/435\u001b[0m \u001b[32m━━━━━━━━━━━━━━━━━━━━\u001b[0m\u001b[37m\u001b[0m \u001b[1m96s\u001b[0m 222ms/step - accuracy: 0.9475 - loss: 0.1402 - val_accuracy: 0.8778 - val_loss: 0.5234 - learning_rate: 1.2500e-04\n",
      "Epoch 17/50\n",
      "\u001b[1m435/435\u001b[0m \u001b[32m━━━━━━━━━━━━━━━━━━━━\u001b[0m\u001b[37m\u001b[0m \u001b[1m0s\u001b[0m 210ms/step - accuracy: 0.9499 - loss: 0.1296\n",
      "Epoch 17: val_accuracy improved from 0.87776 to 0.88100, saving model to /kaggle/working/output/best_model_accuracy.keras\n",
      "\u001b[1m435/435\u001b[0m \u001b[32m━━━━━━━━━━━━━━━━━━━━\u001b[0m\u001b[37m\u001b[0m \u001b[1m97s\u001b[0m 223ms/step - accuracy: 0.9499 - loss: 0.1296 - val_accuracy: 0.8810 - val_loss: 0.5371 - learning_rate: 1.2500e-04\n",
      "Epoch 17: early stopping\n",
      "Restoring model weights from the end of the best epoch: 7.\n",
      "Models saved in: /kaggle/working/output/\n"
     ]
    }
   ],
   "source": [
    "from tensorflow.keras.callbacks import ModelCheckpoint, EarlyStopping, ReduceLROnPlateau\n",
    "from tensorflow.keras.optimizers import AdamW  # Use AdamW optimizer\n",
    "import os\n",
    "\n",
    "# Creating the output directory (Kaggle output directory)\n",
    "output_dir = '/kaggle/working/output/'  # Adjust path as needed\n",
    "if not os.path.exists(output_dir):\n",
    "    os.makedirs(output_dir)\n",
    "\n",
    "# Define the learning rate scheduler with more adaptive settings\n",
    "reduce_lr = ReduceLROnPlateau(monitor='val_loss', factor=0.5, patience=4, min_lr=1e-6, verbose=1)\n",
    "\n",
    "# Early stopping with increased patience\n",
    "early_stopping = EarlyStopping(monitor='val_loss', patience=10, restore_best_weights=True, verbose=1)\n",
    "\n",
    "# Save the best model based on validation accuracy\n",
    "model_checkpoint = ModelCheckpoint(filepath=os.path.join(output_dir, 'best_model_accuracy.keras'),\n",
    "                                   monitor='val_accuracy', save_best_only=True, verbose=1, mode='max')\n",
    "\n",
    "# Adaptive learning rate with AdamW optimizer\n",
    "initial_learning_rate = 0.0005  # Start with a smaller learning rate\n",
    "adamw = AdamW(learning_rate=initial_learning_rate, weight_decay=1e-4)\n",
    "\n",
    "# Compile the model with categorical crossentropy and accuracy\n",
    "model.compile(optimizer=adamw, loss='categorical_crossentropy', metrics=['accuracy'])\n",
    "\n",
    "# Train the model with callbacks\n",
    "history = model.fit(\n",
    "    X, y,\n",
    "    epochs=50,\n",
    "    batch_size=128,  # Using a smaller batch size\n",
    "    validation_data=(X_test, y_test),\n",
    "    callbacks=[reduce_lr, early_stopping, model_checkpoint],\n",
    "    verbose=1\n",
    ")\n",
    "\n",
    "# Save the final model after training completes\n",
    "model.save(os.path.join(output_dir, 'final_model.keras'))\n",
    "\n",
    "print(f\"Models saved in: {output_dir}\")\n"
   ]
  },
  {
   "cell_type": "markdown",
   "id": "d1b5dc83",
   "metadata": {
    "papermill": {
     "duration": 0.601404,
     "end_time": "2024-09-05T17:53:06.447143",
     "exception": false,
     "start_time": "2024-09-05T17:53:05.845739",
     "status": "completed"
    },
    "tags": []
   },
   "source": [
    "# Results and Discussion"
   ]
  },
  {
   "cell_type": "code",
   "execution_count": 21,
   "id": "a1c1d5f7",
   "metadata": {
    "execution": {
     "iopub.execute_input": "2024-09-05T17:53:07.692609Z",
     "iopub.status.busy": "2024-09-05T17:53:07.692202Z",
     "iopub.status.idle": "2024-09-05T17:53:28.587631Z",
     "shell.execute_reply": "2024-09-05T17:53:28.586598Z"
    },
    "papermill": {
     "duration": 21.505122,
     "end_time": "2024-09-05T17:53:28.590136",
     "exception": false,
     "start_time": "2024-09-05T17:53:07.085014",
     "status": "completed"
    },
    "tags": []
   },
   "outputs": [
    {
     "name": "stdout",
     "output_type": "stream",
     "text": [
      "\u001b[1m435/435\u001b[0m \u001b[32m━━━━━━━━━━━━━━━━━━━━\u001b[0m\u001b[37m\u001b[0m \u001b[1m20s\u001b[0m 45ms/step\n",
      "Confusion Matrix:\n",
      "            irrelevant  negative  neutral  positive\n",
      "irrelevant        2039       151       68       216\n",
      "negative           103      3789      154       214\n",
      "neutral            120       192     2799       286\n",
      "positive           155       250      134      3229\n",
      "\n",
      "Class-wise and Overall Metrics:\n",
      "              precision    recall  f1-score       support\n",
      "irrelevant     0.843608  0.824171  0.833776   2474.000000\n",
      "negative       0.864674  0.889437  0.876880   4260.000000\n",
      "neutral        0.887163  0.823962  0.854396   3397.000000\n",
      "positive       0.818504  0.856953  0.837288   3768.000000\n",
      "accuracy       0.853011  0.853011  0.853011      0.853011\n",
      "macro avg      0.853487  0.848631  0.850585  13899.000000\n",
      "weighted avg   0.853904  0.853011  0.852979  13899.000000\n",
      "\n",
      "Overall Accuracy: 0.8530\n"
     ]
    }
   ],
   "source": [
    "from sklearn.metrics import accuracy_score, f1_score, recall_score, precision_score, confusion_matrix, classification_report\n",
    "import numpy as np\n",
    "import pandas as pd\n",
    "import os\n",
    "\n",
    "# Load the best model (based on highest validation accuracy)\n",
    "model.load_weights(os.path.join(output_dir, 'final_model.keras'))\n",
    "\n",
    "# Predict on the test set\n",
    "y_pred_prob = model.predict(X_test)\n",
    "y_pred = np.argmax(y_pred_prob, axis=1)\n",
    "y_true = np.argmax(y_test, axis=1)\n",
    "\n",
    "# Confusion Matrix with labels\n",
    "labels = ['irrelevant', 'negative', 'neutral', 'positive']\n",
    "conf_matrix = confusion_matrix(y_true, y_pred)\n",
    "print('Confusion Matrix:')\n",
    "print(pd.DataFrame(conf_matrix, index=labels, columns=labels))\n",
    "\n",
    "# Classification report for class-wise metrics\n",
    "class_report = classification_report(y_true, y_pred, target_names=labels, output_dict=True)\n",
    "\n",
    "# Convert classification report into a DataFrame\n",
    "class_report_df = pd.DataFrame(class_report).transpose()\n",
    "\n",
    "# Print class-wise accuracy, F1 score, recall, and precision\n",
    "print('\\nClass-wise and Overall Metrics:')\n",
    "print(class_report_df[['precision', 'recall', 'f1-score', 'support']])\n",
    "\n",
    "# Overall accuracy\n",
    "accuracy = accuracy_score(y_true, y_pred)\n",
    "print(f'\\nOverall Accuracy: {accuracy:.4f}')\n"
   ]
  },
  {
   "cell_type": "code",
   "execution_count": 22,
   "id": "9330a3d3",
   "metadata": {
    "execution": {
     "iopub.execute_input": "2024-09-05T17:53:29.876315Z",
     "iopub.status.busy": "2024-09-05T17:53:29.875555Z",
     "iopub.status.idle": "2024-09-05T17:53:30.443635Z",
     "shell.execute_reply": "2024-09-05T17:53:30.442757Z"
    },
    "papermill": {
     "duration": 1.226219,
     "end_time": "2024-09-05T17:53:30.445528",
     "exception": false,
     "start_time": "2024-09-05T17:53:29.219309",
     "status": "completed"
    },
    "tags": []
   },
   "outputs": [
    {
     "data": {
      "image/png": "[encoded data removed]",
      "text/plain": [
       "<Figure size 640x480 with 1 Axes>"
      ]
     },
     "metadata": {},
     "output_type": "display_data"
    },
    {
     "data": {
      "image/png": "[encoded data removed]",
      "text/plain": [
       "<Figure size 640x480 with 1 Axes>"
      ]
     },
     "metadata": {},
     "output_type": "display_data"
    }
   ],
   "source": [
    "plt.plot(history.history['accuracy'])\n",
    "plt.plot(history.history['val_accuracy'])\n",
    "plt.title('Accuracy and validation accurcay')\n",
    "plt.xlabel('epochs')\n",
    "plt.ylabel('Accuracy')\n",
    "plt.legend(['Train', 'Test'], loc= 'upper left')\n",
    "plt.show()\n",
    "\n",
    "plt.plot(history.history['loss'])\n",
    "plt.plot(history.history['val_loss'])\n",
    "plt.title('Loss and Validation Loss')\n",
    "plt.xlabel('epochs')\n",
    "plt.ylabel('Loss')\n",
    "plt.legend(['Train', 'Test'], loc= 'upper left')\n",
    "plt.show()"
   ]
  },
  {
   "cell_type": "markdown",
   "id": "9179fc53",
   "metadata": {
    "papermill": {
     "duration": 0.617321,
     "end_time": "2024-09-05T17:53:31.685082",
     "exception": false,
     "start_time": "2024-09-05T17:53:31.067761",
     "status": "completed"
    },
    "tags": []
   },
   "source": [
    "# Predictions"
   ]
  },
  {
   "cell_type": "code",
   "execution_count": 23,
   "id": "b77232e3",
   "metadata": {
    "execution": {
     "iopub.execute_input": "2024-09-05T17:53:33.003037Z",
     "iopub.status.busy": "2024-09-05T17:53:33.002654Z",
     "iopub.status.idle": "2024-09-05T17:53:34.566463Z",
     "shell.execute_reply": "2024-09-05T17:53:34.565140Z"
    },
    "papermill": {
     "duration": 2.18925,
     "end_time": "2024-09-05T17:53:34.568477",
     "exception": false,
     "start_time": "2024-09-05T17:53:32.379227",
     "status": "completed"
    },
    "tags": []
   },
   "outputs": [
    {
     "name": "stdout",
     "output_type": "stream",
     "text": [
      "---------------------------------\n",
      "Actual value from the Validation Dataset: irrelevant\n",
      "Predicted value by Our Model: irrelevant\n",
      "---------------------------------\n",
      "Actual value from the Validation Dataset: neutral\n",
      "Predicted value by Our Model: neutral\n",
      "---------------------------------\n",
      "Actual value from the Validation Dataset: negative\n",
      "Predicted value by Our Model: negative\n",
      "---------------------------------\n",
      "Actual value from the Validation Dataset: negative\n",
      "Predicted value by Our Model: negative\n",
      "---------------------------------\n",
      "Actual value from the Validation Dataset: neutral\n",
      "Predicted value by Our Model: neutral\n",
      "---------------------------------\n",
      "Actual value from the Validation Dataset: negative\n",
      "Predicted value by Our Model: negative\n",
      "---------------------------------\n",
      "Actual value from the Validation Dataset: positive\n",
      "Predicted value by Our Model: positive\n",
      "---------------------------------\n",
      "Actual value from the Validation Dataset: positive\n",
      "Predicted value by Our Model: positive\n",
      "---------------------------------\n",
      "Actual value from the Validation Dataset: positive\n",
      "Predicted value by Our Model: positive\n",
      "---------------------------------\n",
      "Actual value from the Validation Dataset: negative\n",
      "Predicted value by Our Model: negative\n",
      "---------------------------------\n",
      "Actual value from the Validation Dataset: positive\n",
      "Predicted value by Our Model: positive\n",
      "---------------------------------\n",
      "Actual value from the Validation Dataset: positive\n",
      "Predicted value by Our Model: positive\n"
     ]
    }
   ],
   "source": [
    "# Load the saved weights\n",
    "model.load_weights(os.path.join(output_dir, 'final_model.keras'))\n",
    "\n",
    "import numpy as np\n",
    "\n",
    "# Define the class labels\n",
    "class_labels = ['irrelevant', 'negative', 'neutral', 'positive']\n",
    "\n",
    "# Make predictions using the loaded model\n",
    "for i in range(12):\n",
    "    input_sequence = X_val[i].reshape(1, -1)  # Reshape the input for prediction\n",
    "    real_class_index = np.argmax(y_val[i])  # Get the real class index from y_val\n",
    "    predicted_class_index = np.argmax(model.predict(input_sequence, verbose=0))  # Predict the class index\n",
    "\n",
    "    # Display the actual text, real label, and predicted label\n",
    "    print(\"---------------------------------\")\n",
    "    print(f'Actual value from the Validation Dataset: {class_labels[real_class_index]}')\n",
    "    print(f'Predicted value by Our Model: {class_labels[predicted_class_index]}')\n"
   ]
  },
  {
   "cell_type": "code",
   "execution_count": null,
   "id": "9b6f8330",
   "metadata": {
    "papermill": {
     "duration": 0.629533,
     "end_time": "2024-09-05T17:53:35.858690",
     "exception": false,
     "start_time": "2024-09-05T17:53:35.229157",
     "status": "completed"
    },
    "tags": []
   },
   "outputs": [],
   "source": []
  }
 ],
 "metadata": {
  "kaggle": {
   "accelerator": "nvidiaTeslaT4",
   "dataSources": [
    {
     "datasetId": 1520310,
     "sourceId": 2510329,
     "sourceType": "datasetVersion"
    }
   ],
   "dockerImageVersionId": 30761,
   "isGpuEnabled": true,
   "isInternetEnabled": true,
   "language": "python",
   "sourceType": "notebook"
  },
  "kernelspec": {
   "display_name": "Python 3",
   "language": "python",
   "name": "python3"
  },
  "language_info": {
   "codemirror_mode": {
    "name": "ipython",
    "version": 3
   },
   "file_extension": ".py",
   "mimetype": "text/x-python",
   "name": "python",
   "nbconvert_exporter": "python",
   "pygments_lexer": "ipython3",
   "version": "3.10.14"
  },
  "papermill": {
   "default_parameters": {},
   "duration": 1871.53638,
   "end_time": "2024-09-05T17:53:39.395559",
   "environment_variables": {},
   "exception": null,
   "input_path": "__notebook__.ipynb",
   "output_path": "__notebook__.ipynb",
   "parameters": {},
   "start_time": "2024-09-05T17:22:27.859179",
   "version": "2.6.0"
  }
 },
 "nbformat": 4,
 "nbformat_minor": 5
}
